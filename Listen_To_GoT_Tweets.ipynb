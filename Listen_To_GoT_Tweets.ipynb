{
 "cells": [
  {
   "cell_type": "markdown",
   "metadata": {},
   "source": [
    "# Listen to the 'Game of Thrones'-Hashtags\n",
    "Listens and stores the twitter."
   ]
  },
  {
   "cell_type": "code",
   "execution_count": 1,
   "metadata": {
    "collapsed": true
   },
   "outputs": [],
   "source": [
    "from tweepy import Stream\n",
    "from tweepy import OAuthHandler\n",
    "from tweepy.streaming import StreamListener\n",
    "\n",
    "import dateutil\n",
    "import time\n",
    "import json\n",
    "import csv\n",
    "import os\n",
    "import re"
   ]
  },
  {
   "cell_type": "code",
   "execution_count": 2,
   "metadata": {
    "collapsed": true
   },
   "outputs": [],
   "source": [
    "with open('Twitter_API_Auth.csv', 'r') as f:\n",
    "    auth = [line.strip() for line in f]\n",
    "    \n",
    "ckey = auth[0]\n",
    "csecret = auth[1]\n",
    "atoken = auth[2]\n",
    "asecret = auth[3]"
   ]
  },
  {
   "cell_type": "code",
   "execution_count": 3,
   "metadata": {
    "collapsed": true
   },
   "outputs": [],
   "source": [
    "path = 'GoT_finale.csv'\n",
    "\n",
    "keys = ['created_at', 'id', 'text', 'source', 'lang', 'timestamp_ms', 'user_id', 'user_name', 'user_status', 'user_follower', 'user_friends', 'user_rate', 'user_created']\n",
    "\n",
    "if not os.path.isfile(path):\n",
    "    with open(path, 'w') as f:\n",
    "        writer = csv.writer(f)\n",
    "        writer.writerow(keys)"
   ]
  },
  {
   "cell_type": "code",
   "execution_count": null,
   "metadata": {
    "collapsed": true,
    "scrolled": false
   },
   "outputs": [],
   "source": [
    "class listener(StreamListener):\n",
    "    def on_data(self, data):\n",
    "        try:\n",
    "            loaded = json.loads(data)\n",
    "            \n",
    "            tweet = []\n",
    "            tweet.append(dateutil.parser.parse(loaded[keys[0]]))\n",
    "            \n",
    "            for key in keys[1:6]:\n",
    "                tweet.append(loaded[key])\n",
    "            user = loaded[keys[6][:4]]            \n",
    "            \n",
    "            id = user['id']\n",
    "            name = user['name']\n",
    "            sta = user['statuses_count']\n",
    "            fol = user['followers_count']\n",
    "            fri = user['friends_count']\n",
    "            rate = fol/fri if fri!=0 else 9000\n",
    "            try:\n",
    "                created = dateutil.parser.parse(user['created_at'])\n",
    "            except:\n",
    "                created = None\n",
    "            tweet.extend([id, name, sta, fol, fri, rate, created])\n",
    "            \n",
    "            with open(path, 'a') as f:\n",
    "                writer = csv.writer(f)\n",
    "                writer.writerow(tweet)\n",
    "        except:\n",
    "            pass\n",
    "        #except BaseException as e:\n",
    "            #print('Failed ondata, ', str(e))\n",
    "            #time.sleep(5)\n",
    "        return True\n",
    "    \n",
    "    def on_error(self, status):\n",
    "        print(status)\n",
    "        \n",
    "auth = OAuthHandler(ckey, csecret)\n",
    "auth.set_access_token(atoken, asecret)\n",
    "\n",
    "hashtags = ['#gots{}e{}'.format(s, e) for s in range(1, 8) for e in range(1, 11)]\n",
    "hashtags = ['#gameofthones', '#gameofthrones', '#gameofthrones7', '#gameofthronesfinale', '#gameofthroness7', '#gamesofthrones', '#got', '#got7', '#gotfinale', '#gots7', '#gots7e7', '#juegodetronos']\n",
    "while True:\n",
    "    try:\n",
    "        twitterStream = Stream(auth, listener())\n",
    "        twitterStream.filter(track=hashtags)\n",
    "        #twitterStream.filter(track=['the', 'to', 'a', 'of', 'in'])\n",
    "    except:\n",
    "        print('Fehler')\n",
    "        pass"
   ]
  },
  {
   "cell_type": "code",
   "execution_count": null,
   "metadata": {
    "collapsed": true
   },
   "outputs": [],
   "source": []
  }
 ],
 "metadata": {
  "kernelspec": {
   "display_name": "Python 3",
   "language": "python",
   "name": "python3"
  },
  "language_info": {
   "codemirror_mode": {
    "name": "ipython",
    "version": 3
   },
   "file_extension": ".py",
   "mimetype": "text/x-python",
   "name": "python",
   "nbconvert_exporter": "python",
   "pygments_lexer": "ipython3",
   "version": "3.6.1"
  }
 },
 "nbformat": 4,
 "nbformat_minor": 2
}
